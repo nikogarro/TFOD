{
 "cells": [
  {
   "cell_type": "markdown",
   "id": "113e51c3-a652-4c29-b201-d2a3f63bf78c",
   "metadata": {},
   "source": [
    "### Their work **https://www.youtube.com/watch?v=yqkISICHH-U**"
   ]
  },
  {
   "cell_type": "markdown",
   "id": "cd1c0928-05a7-4361-a9a0-f2ee61fa45ed",
   "metadata": {},
   "source": [
    "## 1. Import Libraries"
   ]
  },
  {
   "cell_type": "code",
   "execution_count": 1,
   "id": "6e8ff5cb-3f1f-4125-b39c-99d6a5aca802",
   "metadata": {},
   "outputs": [],
   "source": [
    "import cv2\n",
    "import uuid\n",
    "import os\n",
    "import time"
   ]
  },
  {
   "cell_type": "markdown",
   "id": "355f30b7-73c6-44fb-989c-bfae8e802bad",
   "metadata": {},
   "source": [
    "## 2. Define Images to Collect"
   ]
  },
  {
   "cell_type": "code",
   "execution_count": 37,
   "id": "3b87d6f6-7686-4c23-8591-81aee7e0bdce",
   "metadata": {},
   "outputs": [],
   "source": [
    "os.chdir('C:\\\\Users\\\\NIKO\\\\TFOD')"
   ]
  },
  {
   "cell_type": "code",
   "execution_count": 38,
   "id": "9b46e33c-fe5e-4448-8a87-c808fe60450c",
   "metadata": {},
   "outputs": [
    {
     "name": "stdout",
     "output_type": "stream",
     "text": [
      " Volume in drive C is Windows\n",
      " Volume Serial Number is B685-BB8F\n",
      "\n",
      " Directory of C:\\Users\\NIKO\\TFOD\n",
      "\n",
      "12/03/2023  17:48    <DIR>          .\n",
      "12/03/2023  17:48    <DIR>          ..\n",
      "12/03/2023  16:14    <DIR>          .ipynb_checkpoints\n",
      "12/03/2023  17:48            12.345 Image Collection.ipynb\n",
      "12/03/2023  17:35    <DIR>          Tensorflow\n",
      "               1 File(s)         12.345 bytes\n",
      "               4 Dir(s)  320.710.148.096 bytes free\n"
     ]
    }
   ],
   "source": [
    "!dir"
   ]
  },
  {
   "cell_type": "code",
   "execution_count": 2,
   "id": "41494f5f-18d2-403b-b83b-d24558e4c211",
   "metadata": {},
   "outputs": [],
   "source": [
    "labels = ['thumbsup', 'thumbsdown', 'thankyou','livelong']\n",
    "number_imgs = 5"
   ]
  },
  {
   "cell_type": "markdown",
   "id": "3f2e1463-afe3-45c2-bc39-22f874753d73",
   "metadata": {},
   "source": [
    "## 3.Setup Folders"
   ]
  },
  {
   "cell_type": "code",
   "execution_count": 24,
   "id": "198cbdfa-df5a-4c57-81e2-8a8af4ec90f9",
   "metadata": {},
   "outputs": [],
   "source": [
    "IMAGES_PATH = os.path.join('Tensorflow', 'workspace', 'images', 'collectedimages')"
   ]
  },
  {
   "cell_type": "code",
   "execution_count": 25,
   "id": "44ec64bc-a8fa-426c-b38e-41fdb0b6e401",
   "metadata": {},
   "outputs": [
    {
     "name": "stdout",
     "output_type": "stream",
     "text": [
      "Tensorflow\\workspace\\images\\collectedimages\n"
     ]
    }
   ],
   "source": [
    "print(IMAGES_PATH)"
   ]
  },
  {
   "cell_type": "code",
   "execution_count": 15,
   "id": "2294c984-12a8-4c8f-9559-f9d19193eefd",
   "metadata": {},
   "outputs": [],
   "source": [
    "if not os.path.exists(IMAGES_PATH):\n",
    "    if os.name == 'posix':\n",
    "        !mkdir -p {IMAGES_PATH}\n",
    "    if os.name == 'nt':\n",
    "         !mkdir {IMAGES_PATH}\n",
    "for label in labels:\n",
    "    path = os.path.join(IMAGES_PATH, label)\n",
    "    if not os.path.exists(path):\n",
    "        !mkdir {path}"
   ]
  },
  {
   "cell_type": "markdown",
   "id": "ad1be008-e788-42da-9c79-8b2c1c7f76a5",
   "metadata": {},
   "source": [
    "## 4. Capture Images"
   ]
  },
  {
   "cell_type": "code",
   "execution_count": 27,
   "id": "8598652a-8aa7-4220-b899-6fd08c451206",
   "metadata": {},
   "outputs": [
    {
     "name": "stdout",
     "output_type": "stream",
     "text": [
      "Collecting images for thumbsup\n",
      "Collecting image 0\n",
      "Collecting image 1\n",
      "Collecting image 2\n",
      "Collecting image 3\n",
      "Collecting image 4\n",
      "Collecting images for thumbsdown\n",
      "Collecting image 0\n",
      "Collecting image 1\n",
      "Collecting image 2\n",
      "Collecting image 3\n",
      "Collecting image 4\n",
      "Collecting images for thankyou\n",
      "Collecting image 0\n",
      "Collecting image 1\n",
      "Collecting image 2\n",
      "Collecting image 3\n",
      "Collecting image 4\n",
      "Collecting images for livelong\n",
      "Collecting image 0\n",
      "Collecting image 1\n",
      "Collecting image 2\n",
      "Collecting image 3\n",
      "Collecting image 4\n"
     ]
    }
   ],
   "source": [
    "for label in labels:\n",
    "    #connect to webcam\n",
    "    cap = cv2.VideoCapture(0)\n",
    "    print('Collecting images for {}'.format(label))\n",
    "    time.sleep(10)\n",
    "    for imgnum in range(number_imgs):\n",
    "        print('Collecting image {}'.format(imgnum))\n",
    "        ret, frame = cap.read()\n",
    "        imgname = os.path.join(IMAGES_PATH,label,label+'.'+'{}.jpg'.format(str(uuid.uuid1())))\n",
    "        cv2.imwrite(imgname, frame)\n",
    "        cv2.imshow('frame', frame)\n",
    "        time.sleep(5)\n",
    "\n",
    "        if cv2.waitKey(2) & 0xFF == ord('q'):\n",
    "            break\n",
    "cap.release()\n",
    "cv2.destroyAllWindows()"
   ]
  },
  {
   "cell_type": "markdown",
   "id": "3f97c84e-efaf-42a6-94b9-d30fa2a8f69d",
   "metadata": {},
   "source": [
    "#### You can take the photos with a better camera for improved results"
   ]
  },
  {
   "cell_type": "markdown",
   "id": "9bb95934-224e-4be5-9352-c609de36599a",
   "metadata": {},
   "source": [
    "## 5. Image Labelling"
   ]
  },
  {
   "cell_type": "code",
   "execution_count": 28,
   "id": "7168378b-5abe-474f-aa92-ff7e7d97cadb",
   "metadata": {},
   "outputs": [
    {
     "name": "stdout",
     "output_type": "stream",
     "text": [
      "Requirement already satisfied: pyqt5 in c:\\users\\niko\\miniconda3\\lib\\site-packages (5.15.7)"
     ]
    },
    {
     "name": "stderr",
     "output_type": "stream",
     "text": [
      "ERROR: Could not install packages due to an OSError: [WinError 5] Δεν επιτρέπεται η πρόσβαση: 'C:\\\\Users\\\\NIKO\\\\miniconda3\\\\Lib\\\\site-packages\\\\~xml\\\\etree.cp310-win_amd64.pyd'\n",
      "Consider using the `--user` option or check the permissions.\n",
      "\n"
     ]
    },
    {
     "name": "stdout",
     "output_type": "stream",
     "text": [
      "\n",
      "Collecting pyqt5\n",
      "  Downloading PyQt5-5.15.9-cp37-abi3-win_amd64.whl (6.8 MB)\n",
      "     ---------------------------------------- 6.8/6.8 MB 855.5 kB/s eta 0:00:00\n",
      "Requirement already satisfied: lxml in c:\\users\\niko\\miniconda3\\lib\\site-packages (4.9.1)\n",
      "Collecting lxml\n",
      "  Using cached lxml-4.9.2-cp310-cp310-win_amd64.whl (3.8 MB)\n",
      "Requirement already satisfied: PyQt5-sip<13,>=12.11 in c:\\users\\niko\\miniconda3\\lib\\site-packages (from pyqt5) (12.11.0)\n",
      "Collecting PyQt5-Qt5>=5.15.2\n",
      "  Using cached PyQt5_Qt5-5.15.2-py3-none-win_amd64.whl (50.1 MB)\n",
      "Installing collected packages: PyQt5-Qt5, pyqt5, lxml\n",
      "  Attempting uninstall: pyqt5\n",
      "    Found existing installation: PyQt5 5.15.7\n",
      "    Uninstalling PyQt5-5.15.7:\n",
      "      Successfully uninstalled PyQt5-5.15.7\n",
      "  Attempting uninstall: lxml\n",
      "    Found existing installation: lxml 4.9.1\n",
      "    Uninstalling lxml-4.9.1:\n",
      "      Successfully uninstalled lxml-4.9.1\n"
     ]
    }
   ],
   "source": [
    "!pip install --upgrade pyqt5 lxml"
   ]
  },
  {
   "cell_type": "code",
   "execution_count": 33,
   "id": "3a3bbea6-f523-4962-80d6-8050c9fe7bca",
   "metadata": {},
   "outputs": [],
   "source": [
    "LABELIMG_PATH = os.path.join('Tensorflow', 'labelimg')"
   ]
  },
  {
   "cell_type": "code",
   "execution_count": 34,
   "id": "d87964bb-3dcc-4db7-b973-61e805964061",
   "metadata": {
    "collapsed": true,
    "jupyter": {
     "outputs_hidden": true
    },
    "tags": []
   },
   "outputs": [
    {
     "name": "stderr",
     "output_type": "stream",
     "text": [
      "Cloning into 'Tensorflow\\labelimg'...\n",
      "Updating files:  18% (22/117)\n",
      "Updating files:  19% (23/117)\n",
      "Updating files:  20% (24/117)\n",
      "Updating files:  21% (25/117)\n",
      "Updating files:  22% (26/117)\n",
      "Updating files:  23% (27/117)\n",
      "Updating files:  24% (29/117)\n",
      "Updating files:  25% (30/117)\n",
      "Updating files:  26% (31/117)\n",
      "Updating files:  27% (32/117)\n",
      "Updating files:  28% (33/117)\n",
      "Updating files:  29% (34/117)\n",
      "Updating files:  30% (36/117)\n",
      "Updating files:  31% (37/117)\n",
      "Updating files:  32% (38/117)\n",
      "Updating files:  33% (39/117)\n",
      "Updating files:  34% (40/117)\n",
      "Updating files:  35% (41/117)\n",
      "Updating files:  36% (43/117)\n",
      "Updating files:  37% (44/117)\n",
      "Updating files:  38% (45/117)\n",
      "Updating files:  39% (46/117)\n",
      "Updating files:  40% (47/117)\n",
      "Updating files:  41% (48/117)\n",
      "Updating files:  42% (50/117)\n",
      "Updating files:  43% (51/117)\n",
      "Updating files:  44% (52/117)\n",
      "Updating files:  45% (53/117)\n",
      "Updating files:  46% (54/117)\n",
      "Updating files:  47% (55/117)\n",
      "Updating files:  48% (57/117)\n",
      "Updating files:  49% (58/117)\n",
      "Updating files:  50% (59/117)\n",
      "Updating files:  51% (60/117)\n",
      "Updating files:  52% (61/117)\n",
      "Updating files:  53% (63/117)\n",
      "Updating files:  54% (64/117)\n",
      "Updating files:  55% (65/117)\n",
      "Updating files:  56% (66/117)\n",
      "Updating files:  57% (67/117)\n",
      "Updating files:  58% (68/117)\n",
      "Updating files:  59% (70/117)\n",
      "Updating files:  60% (71/117)\n",
      "Updating files:  61% (72/117)\n",
      "Updating files:  62% (73/117)\n",
      "Updating files:  63% (74/117)\n",
      "Updating files:  64% (75/117)\n",
      "Updating files:  65% (77/117)\n",
      "Updating files:  66% (78/117)\n",
      "Updating files:  67% (79/117)\n",
      "Updating files:  68% (80/117)\n",
      "Updating files:  69% (81/117)\n",
      "Updating files:  70% (82/117)\n",
      "Updating files:  71% (84/117)\n",
      "Updating files:  72% (85/117)\n",
      "Updating files:  73% (86/117)\n",
      "Updating files:  74% (87/117)\n",
      "Updating files:  75% (88/117)\n",
      "Updating files:  76% (89/117)\n",
      "Updating files:  77% (91/117)\n",
      "Updating files:  78% (92/117)\n",
      "Updating files:  79% (93/117)\n",
      "Updating files:  80% (94/117)\n",
      "Updating files:  81% (95/117)\n",
      "Updating files:  82% (96/117)\n",
      "Updating files:  83% (98/117)\n",
      "Updating files:  84% (99/117)\n",
      "Updating files:  85% (100/117)\n",
      "Updating files:  86% (101/117)\n",
      "Updating files:  87% (102/117)\n",
      "Updating files:  88% (103/117)\n",
      "Updating files:  89% (105/117)\n",
      "Updating files:  90% (106/117)\n",
      "Updating files:  91% (107/117)\n",
      "Updating files:  92% (108/117)\n",
      "Updating files:  93% (109/117)\n",
      "Updating files:  94% (110/117)\n",
      "Updating files:  95% (112/117)\n",
      "Updating files:  96% (113/117)\n",
      "Updating files:  97% (114/117)\n",
      "Updating files:  98% (115/117)\n",
      "Updating files:  99% (116/117)\n",
      "Updating files: 100% (117/117)\n",
      "Updating files: 100% (117/117), done.\n"
     ]
    }
   ],
   "source": [
    "if not os.path.exists(LABELIMG_PATH):\n",
    "    !mkdir {LABELIMG_PATH}\n",
    "    !git clone https://github.com/tzutalin/labelImg {LABELIMG_PATH}"
   ]
  },
  {
   "cell_type": "code",
   "execution_count": 39,
   "id": "6e300af1-a38c-44bb-90f1-d9ef000a3663",
   "metadata": {},
   "outputs": [],
   "source": [
    "if os.name == 'posix':\n",
    "    !make qt5py3\n",
    "if os.name =='nt':\n",
    "    !cd {LABELIMG_PATH} && pyrcc5 -o libs/resources.py resources.qrc"
   ]
  },
  {
   "cell_type": "code",
   "execution_count": 40,
   "id": "ec8b4e75-db4c-4627-8f3f-72fe5eddb674",
   "metadata": {
    "collapsed": true,
    "jupyter": {
     "outputs_hidden": true
    },
    "tags": []
   },
   "outputs": [
    {
     "name": "stdout",
     "output_type": "stream",
     "text": [
      "Cancel creation.\n",
      "Cancel creation.\n",
      "Image:C:\\Users\\NIKO\\TFOD\\Tensorflow\\workspace\\images\\collectedimages\\livelong\\.ipynb_checkpoints\\livelong.4ec85796-c0e9-11ed-b1ea-54e1adf5e926-checkpoint.jpg -> Annotation:C:/Users/NIKO/TFOD/Tensorflow/workspace/images/collectedimages/livelong\\livelong.4ec85796-c0e9-11ed-b1ea-54e1adf5e926-checkpoint.xml\n",
      "Image:C:\\Users\\NIKO\\TFOD\\Tensorflow\\workspace\\images\\collectedimages\\livelong\\.ipynb_checkpoints\\livelong.4ec85796-c0e9-11ed-b1ea-54e1adf5e926-checkpoint.jpg -> Annotation:C:/Users/NIKO/TFOD/Tensorflow/workspace/images/collectedimages/livelong\\livelong.4ec85796-c0e9-11ed-b1ea-54e1adf5e926-checkpoint.xml\n",
      "Image:C:\\Users\\NIKO\\TFOD\\Tensorflow\\workspace\\images\\collectedimages\\livelong\\.ipynb_checkpoints\\livelong.4ec85796-c0e9-11ed-b1ea-54e1adf5e926-checkpoint.jpg -> Annotation:C:/Users/NIKO/TFOD/Tensorflow/workspace/images/collectedimages/livelong/livelong.4ec85796-c0e9-11ed-b1ea-54e1adf5e926.xml\n",
      "Image:C:\\Users\\NIKO\\TFOD\\Tensorflow\\workspace\\images\\collectedimages\\livelong\\livelong.33cc8f1a-c0e5-11ed-8b3e-54e1adf5e926.jpg -> Annotation:C:/Users/NIKO/TFOD/Tensorflow/workspace/images/collectedimages/livelong\\livelong.33cc8f1a-c0e5-11ed-8b3e-54e1adf5e926.xml\n",
      "Image:C:\\Users\\NIKO\\TFOD\\Tensorflow\\workspace\\images\\collectedimages\\livelong\\livelong.51d04b8d-c0e9-11ed-b236-54e1adf5e926.jpg -> Annotation:C:/Users/NIKO/TFOD/Tensorflow/workspace/images/collectedimages/livelong\\livelong.51d04b8d-c0e9-11ed-b236-54e1adf5e926.xml\n",
      "Image:C:\\Users\\NIKO\\TFOD\\Tensorflow\\workspace\\images\\collectedimages\\livelong\\livelong.90a7d1a4-c0e7-11ed-9d28-54e1adf5e926.jpg -> Annotation:C:/Users/NIKO/TFOD/Tensorflow/workspace/images/collectedimages/livelong\\livelong.90a7d1a4-c0e7-11ed-9d28-54e1adf5e926.xml\n",
      "Image:C:\\Users\\NIKO\\TFOD\\Tensorflow\\workspace\\images\\collectedimages\\livelong\\livelong.3501d330-c0e5-11ed-8092-54e1adf5e926.jpg -> Annotation:C:/Users/NIKO/TFOD/Tensorflow/workspace/images/collectedimages/livelong\\livelong.3501d330-c0e5-11ed-8092-54e1adf5e926.xml\n",
      "Image:C:\\Users\\NIKO\\TFOD\\Tensorflow\\workspace\\images\\collectedimages\\livelong\\livelong.3636dcd7-c0e5-11ed-9a6b-54e1adf5e926.jpg -> Annotation:C:/Users/NIKO/TFOD/Tensorflow/workspace/images/collectedimages/livelong\\livelong.3636dcd7-c0e5-11ed-9a6b-54e1adf5e926.xml\n",
      "Image:C:\\Users\\NIKO\\TFOD\\Tensorflow\\workspace\\images\\collectedimages\\thankyou\\.ipynb_checkpoints\\thankyou.3f52a46d-c0e9-11ed-8d72-54e1adf5e926-checkpoint.jpg -> Annotation:C:/Users/NIKO/TFOD/Tensorflow/workspace/images/collectedimages/thankyou\\thankyou.3f52a46d-c0e9-11ed-8d72-54e1adf5e926-checkpoint.xml\n",
      "Image:C:\\Users\\NIKO\\TFOD\\Tensorflow\\workspace\\images\\collectedimages\\thankyou\\.ipynb_checkpoints\\thankyou.3f52a46d-c0e9-11ed-8d72-54e1adf5e926-checkpoint.jpg -> Annotation:C:/Users/NIKO/TFOD/Tensorflow/workspace/images/collectedimages/thankyou/thankyou.3f52a46d-c0e9-11ed-8d72-54e1adf5e926.xml\n",
      "Image:C:\\Users\\NIKO\\TFOD\\Tensorflow\\workspace\\images\\collectedimages\\thankyou\\.ipynb_checkpoints\\thankyou.3f52a46d-c0e9-11ed-8d72-54e1adf5e926-checkpoint.jpg -> Annotation:C:/Users/NIKO/TFOD/Tensorflow/workspace/images/collectedimages/thankyou\\thankyou.3f52a46d-c0e9-11ed-8d72-54e1adf5e926-checkpoint.xml\n",
      "Image:C:\\Users\\NIKO\\TFOD\\Tensorflow\\workspace\\images\\collectedimages\\thankyou\\thankyou.2b8890e2-c0e5-11ed-8e6a-54e1adf5e926.jpg -> Annotation:C:/Users/NIKO/TFOD/Tensorflow/workspace/images/collectedimages/thankyou\\thankyou.2b8890e2-c0e5-11ed-8e6a-54e1adf5e926.xml\n",
      "Cancel creation.\n",
      "Image:C:\\Users\\NIKO\\TFOD\\Tensorflow\\workspace\\images\\collectedimages\\thankyou\\thankyou.2cbce53e-c0e5-11ed-900e-54e1adf5e926.jpg -> Annotation:C:/Users/NIKO/TFOD/Tensorflow/workspace/images/collectedimages/thankyou\\thankyou.2cbce53e-c0e5-11ed-900e-54e1adf5e926.xml\n",
      "Image:C:\\Users\\NIKO\\TFOD\\Tensorflow\\workspace\\images\\collectedimages\\thankyou\\thankyou.88f79b3b-c0e7-11ed-a1e4-54e1adf5e926.jpg -> Annotation:C:/Users/NIKO/TFOD/Tensorflow/workspace/images/collectedimages/thankyou\\thankyou.88f79b3b-c0e7-11ed-a1e4-54e1adf5e926.xml\n",
      "Image:C:\\Users\\NIKO\\TFOD\\Tensorflow\\workspace\\images\\collectedimages\\thankyou\\thankyou.291f0768-c0e5-11ed-9365-54e1adf5e926.jpg -> Annotation:C:/Users/NIKO/TFOD/Tensorflow/workspace/images/collectedimages/thankyou\\thankyou.291f0768-c0e5-11ed-9365-54e1adf5e926.xml\n",
      "Image:C:\\Users\\NIKO\\TFOD\\Tensorflow\\workspace\\images\\collectedimages\\thankyou\\thankyou.364edffa-c0e9-11ed-bbab-54e1adf5e926.jpg -> Annotation:C:/Users/NIKO/TFOD/Tensorflow/workspace/images/collectedimages/thankyou\\thankyou.364edffa-c0e9-11ed-bbab-54e1adf5e926.xml\n",
      "Image:C:\\Users\\NIKO\\TFOD\\Tensorflow\\workspace\\images\\collectedimages\\thankyou\\thankyou.836ff170-c0e7-11ed-a7a6-54e1adf5e926.jpg -> Annotation:C:/Users/NIKO/TFOD/Tensorflow/workspace/images/collectedimages/thankyou\\thankyou.836ff170-c0e7-11ed-a7a6-54e1adf5e926.xml\n",
      "Image:C:\\Users\\NIKO\\TFOD\\Tensorflow\\workspace\\images\\collectedimages\\thankyou\\thankyou.39512e5c-c0e9-11ed-a1e7-54e1adf5e926.jpg -> Annotation:C:/Users/NIKO/TFOD/Tensorflow/workspace/images/collectedimages/thankyou\\thankyou.39512e5c-c0e9-11ed-a1e7-54e1adf5e926.xml\n",
      "Image:C:\\Users\\NIKO\\TFOD\\Tensorflow\\workspace\\images\\collectedimages\\thumbsdown\\thumbsdown.7bc545c3-c0e7-11ed-b16a-54e1adf5e926.jpg -> Annotation:C:/Users/NIKO/TFOD/Tensorflow/workspace/images/collectedimages/thumbsdown\\thumbsdown.7bc545c3-c0e7-11ed-b16a-54e1adf5e926.xml\n",
      "Cancel creation.\n",
      "Image:C:\\Users\\NIKO\\TFOD\\Tensorflow\\workspace\\images\\collectedimages\\thumbsdown\\thumbsdown.7bc545c3-c0e7-11ed-b16a-54e1adf5e926.jpg -> Annotation:C:/Users/NIKO/TFOD/Tensorflow/workspace/images/collectedimages/thumbsdown\\thumbsdown.7bc545c3-c0e7-11ed-b16a-54e1adf5e926.xml\n",
      "Image:C:\\Users\\NIKO\\TFOD\\Tensorflow\\workspace\\images\\collectedimages\\thumbsdown\\thumbsdown.20c6f5ee-c0e5-11ed-9cbb-54e1adf5e926.jpg -> Annotation:C:/Users/NIKO/TFOD/Tensorflow/workspace/images/collectedimages/thumbsdown\\thumbsdown.20c6f5ee-c0e5-11ed-9cbb-54e1adf5e926.xml\n",
      "Image:C:\\Users\\NIKO\\TFOD\\Tensorflow\\workspace\\images\\collectedimages\\thumbsdown\\thumbsdown.20cc3231-c0e9-11ed-81f4-54e1adf5e926.jpg -> Annotation:C:/Users/NIKO/TFOD/Tensorflow/workspace/images/collectedimages/thumbsdown\\thumbsdown.20cc3231-c0e9-11ed-81f4-54e1adf5e926.xml\n",
      "Image:C:\\Users\\NIKO\\TFOD\\Tensorflow\\workspace\\images\\collectedimages\\thumbsdown\\thumbsdown.21fca508-c0e5-11ed-b72c-54e1adf5e926.jpg -> Annotation:C:/Users/NIKO/TFOD/Tensorflow/workspace/images/collectedimages/thumbsdown\\thumbsdown.21fca508-c0e5-11ed-b72c-54e1adf5e926.xml\n",
      "Image:C:\\Users\\NIKO\\TFOD\\Tensorflow\\workspace\\images\\collectedimages\\thumbsdown\\thumbsdown.23ccea47-c0e9-11ed-ac5a-54e1adf5e926.jpg -> Annotation:C:/Users/NIKO/TFOD/Tensorflow/workspace/images/collectedimages/thumbsdown\\thumbsdown.23ccea47-c0e9-11ed-ac5a-54e1adf5e926.xml\n",
      "Image:C:\\Users\\NIKO\\TFOD\\Tensorflow\\workspace\\images\\collectedimages\\thumbsdown\\thumbsdown.26d1314e-c0e9-11ed-902f-54e1adf5e926.jpg -> Annotation:C:/Users/NIKO/TFOD/Tensorflow/workspace/images/collectedimages/thumbsdown\\thumbsdown.26d1314e-c0e9-11ed-902f-54e1adf5e926.xml\n",
      "Image:C:\\Users\\NIKO\\TFOD\\Tensorflow\\workspace\\images\\collectedimages\\thumbsdown\\thumbsdown.29d2a739-c0e9-11ed-887d-54e1adf5e926.jpg -> Annotation:C:/Users/NIKO/TFOD/Tensorflow/workspace/images/collectedimages/thumbsdown\\thumbsdown.29d2a739-c0e9-11ed-887d-54e1adf5e926.xml\n",
      "Image:C:\\Users\\NIKO\\TFOD\\Tensorflow\\workspace\\images\\collectedimages\\thumbsdown\\thumbsdown.764afcb9-c0e7-11ed-8481-54e1adf5e926.jpg -> Annotation:C:/Users/NIKO/TFOD/Tensorflow/workspace/images/collectedimages/thumbsdown\\thumbsdown.764afcb9-c0e7-11ed-8481-54e1adf5e926.xml\n",
      "Image:C:\\Users\\NIKO\\TFOD\\Tensorflow\\workspace\\images\\collectedimages\\thumbsdown\\thumbsdown.79f21cb8-c0e7-11ed-b013-54e1adf5e926.jpg -> Annotation:C:/Users/NIKO/TFOD/Tensorflow/workspace/images/collectedimages/thumbsdown\\thumbsdown.79f21cb8-c0e7-11ed-b013-54e1adf5e926.xml\n",
      "Image:C:\\Users\\NIKO\\TFOD\\Tensorflow\\workspace\\images\\collectedimages\\thumbsup\\thumbsup.0b48e6b7-c0e9-11ed-9841-54e1adf5e926.jpg -> Annotation:C:/Users/NIKO/TFOD/Tensorflow/workspace/images/collectedimages/thumbsup\\thumbsup.0b48e6b7-c0e9-11ed-9841-54e1adf5e926.xml\n",
      "Image:C:\\Users\\NIKO\\TFOD\\Tensorflow\\workspace\\images\\collectedimages\\thumbsup\\thumbsup.0e49e949-c0e9-11ed-858d-54e1adf5e926.jpg -> Annotation:C:/Users/NIKO/TFOD/Tensorflow/workspace/images/collectedimages/thumbsup\\thumbsup.0e49e949-c0e9-11ed-858d-54e1adf5e926.xml\n",
      "Image:C:\\Users\\NIKO\\TFOD\\Tensorflow\\workspace\\images\\collectedimages\\thumbsup\\thumbsup.6aec1bda-c0e7-11ed-aba3-54e1adf5e926.jpg -> Annotation:C:/Users/NIKO/TFOD/Tensorflow/workspace/images/collectedimages/thumbsup\\thumbsup.6aec1bda-c0e7-11ed-aba3-54e1adf5e926.xml\n",
      "Image:C:\\Users\\NIKO\\TFOD\\Tensorflow\\workspace\\images\\collectedimages\\thumbsup\\thumbsup.6cbc0830-c0e7-11ed-abb6-54e1adf5e926.jpg -> Annotation:C:/Users/NIKO/TFOD/Tensorflow/workspace/images/collectedimages/thumbsup\\thumbsup.6cbc0830-c0e7-11ed-abb6-54e1adf5e926.xml\n",
      "Image:C:\\Users\\NIKO\\TFOD\\Tensorflow\\workspace\\images\\collectedimages\\thumbsup\\thumbsup.186c0e61-c0e5-11ed-a5ee-54e1adf5e926.jpg -> Annotation:C:/Users/NIKO/TFOD/Tensorflow/workspace/images/collectedimages/thumbsup\\thumbsup.186c0e61-c0e5-11ed-a5ee-54e1adf5e926.xml\n",
      "Image:C:\\Users\\NIKO\\TFOD\\Tensorflow\\workspace\\images\\collectedimages\\thumbsup\\thumbsup.11489533-c0e9-11ed-8166-54e1adf5e926.jpg -> Annotation:C:/Users/NIKO/TFOD/Tensorflow/workspace/images/collectedimages/thumbsup\\thumbsup.11489533-c0e9-11ed-8166-54e1adf5e926.xml\n",
      "Image:C:\\Users\\NIKO\\TFOD\\Tensorflow\\workspace\\images\\collectedimages\\thumbsup\\thumbsup.14482846-c0e9-11ed-84f2-54e1adf5e926.jpg -> Annotation:C:/Users/NIKO/TFOD/Tensorflow/workspace/images/collectedimages/thumbsup\\thumbsup.14482846-c0e9-11ed-84f2-54e1adf5e926.xml\n",
      "Image:C:\\Users\\NIKO\\TFOD\\Tensorflow\\workspace\\images\\collectedimages\\thumbsup\\thumbsup.17364345-c0e5-11ed-b05c-54e1adf5e926.jpg -> Annotation:C:/Users/NIKO/TFOD/Tensorflow/workspace/images/collectedimages/thumbsup\\thumbsup.17364345-c0e5-11ed-b05c-54e1adf5e926.xml\n"
     ]
    }
   ],
   "source": [
    "!cd {LABELIMG_PATH} && python labelImg.py"
   ]
  },
  {
   "cell_type": "markdown",
   "id": "a15cc386-1e2a-4c34-97e9-4c7953bc4b70",
   "metadata": {},
   "source": [
    "## 6. Move them into a Training and Testing Partition"
   ]
  },
  {
   "cell_type": "markdown",
   "id": "3002799c-f370-4d0e-be76-098d76fc592d",
   "metadata": {},
   "source": [
    "#### create a train and test folder and move the photos to it"
   ]
  },
  {
   "cell_type": "markdown",
   "id": "ec2c5807-ef68-4e0a-a750-e5168f20d0aa",
   "metadata": {},
   "source": [
    "##  OPTIONAL - 7. Compress them for Colab Training"
   ]
  },
  {
   "cell_type": "code",
   "execution_count": null,
   "id": "23d0c258-122a-49a3-8615-5018f0327eb7",
   "metadata": {},
   "outputs": [],
   "source": [
    "TRAIN_PATH = os.path.join('Tensorflow', 'workspace', 'images', 'train')\n",
    "TEST_PATH = os.path.join('Tensorflow', 'workspace', 'images', 'test')\n",
    "ARCHIVE_PATH = os.path.join('Tensorflow', 'workspace', 'images', 'archive.tar.gz')"
   ]
  },
  {
   "cell_type": "code",
   "execution_count": null,
   "id": "4735c5df-8796-4f65-b781-cec22ec363eb",
   "metadata": {},
   "outputs": [],
   "source": [
    "!tar -czf {ARCHIVE_PATH} {TRAIN_PATH} {TEST_PATH}"
   ]
  }
 ],
 "metadata": {
  "kernelspec": {
   "display_name": "Python 3 (ipykernel)",
   "language": "python",
   "name": "python3"
  },
  "language_info": {
   "codemirror_mode": {
    "name": "ipython",
    "version": 3
   },
   "file_extension": ".py",
   "mimetype": "text/x-python",
   "name": "python",
   "nbconvert_exporter": "python",
   "pygments_lexer": "ipython3",
   "version": "3.10.8"
  }
 },
 "nbformat": 4,
 "nbformat_minor": 5
}
